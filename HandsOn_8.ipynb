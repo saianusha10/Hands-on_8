{
  "nbformat": 4,
  "nbformat_minor": 0,
  "metadata": {
    "colab": {
      "provenance": [],
      "authorship_tag": "ABX9TyPP32pX6XYA9ZD7FtNC5eMe",
      "include_colab_link": true
    },
    "kernelspec": {
      "name": "python3",
      "display_name": "Python 3"
    },
    "language_info": {
      "name": "python"
    }
  },
  "cells": [
    {
      "cell_type": "markdown",
      "metadata": {
        "id": "view-in-github",
        "colab_type": "text"
      },
      "source": [
        "<a href=\"https://colab.research.google.com/github/saianusha10/Hands-on_8/blob/main/HandsOn_8.ipynb\" target=\"_parent\"><img src=\"https://colab.research.google.com/assets/colab-badge.svg\" alt=\"Open In Colab\"/></a>"
      ]
    },
    {
      "cell_type": "markdown",
      "source": [
        "Q1. Leverage your implementation of quicksort to implement the ith order statistic. Demonstrate it's working via an example. Upload your code to github."
      ],
      "metadata": {
        "id": "AzQ-OhplOrOH"
      }
    },
    {
      "cell_type": "code",
      "execution_count": 5,
      "metadata": {
        "colab": {
          "base_uri": "https://localhost:8080/"
        },
        "id": "bSkK5WLUOgNh",
        "outputId": "34a45af2-9fc1-4e8f-8bb5-659194ea2246"
      },
      "outputs": [
        {
          "output_type": "stream",
          "name": "stdout",
          "text": [
            "The 4 smallest element is 5\n"
          ]
        }
      ],
      "source": [
        "def partition(array, low, high):\n",
        "    pivot = array[high]\n",
        "    i = low - 1\n",
        "\n",
        "    for j in range(low, high):\n",
        "        if array[j] <= pivot:\n",
        "            i += 1\n",
        "            array[i], array[j] = array[j], array[i]\n",
        "\n",
        "    array[i + 1], array[high] = array[high], array[i + 1]\n",
        "    return i + 1\n",
        "\n",
        "def quickselect(array, low, high, i):\n",
        "    if low == high:\n",
        "        return array[low]\n",
        "\n",
        "    pivot_index = partition(array, low, high)\n",
        "    k = pivot_index - low + 1  # Number of elements in the left partition\n",
        "\n",
        "    if i == k:\n",
        "        return array[pivot_index]\n",
        "    elif i < k:\n",
        "        return quickselect(array, low, pivot_index - 1, i)\n",
        "    else:\n",
        "        return quickselect(array, pivot_index + 1, high, i - k)\n",
        "\n",
        "# Example usage:\n",
        "array = [10, 5, 1, 0, 8, 2, 6]\n",
        "i = 4 # Find the 4th smallest element\n",
        "ith_element = quickselect(array, 0, len(array) - 1, i)\n",
        "print(f\"The {i} smallest element is {ith_element}\")\n"
      ]
    },
    {
      "cell_type": "markdown",
      "source": [
        "Q2. Implement and upload your source code to github for: stack, queue, and singly linked list. Make sure to implement the same functionality (api/interface) as the ones from the book.  *Restriction*: Use fixed sized arrays (C style arrays) and assume only integers (C style int) for the data to store."
      ],
      "metadata": {
        "id": "Rmt4W2SYPw1l"
      }
    },
    {
      "cell_type": "code",
      "source": [
        "class Stack:\n",
        "    def __init__(self, capacity):\n",
        "        self.capacity = capacity\n",
        "        self.stack = [0] * capacity\n",
        "        self.top = -1\n",
        "\n",
        "    def push(self, value):\n",
        "        if self.top == self.capacity - 1:\n",
        "            print(\"Stack overflow!\")\n",
        "            return\n",
        "        self.top += 1\n",
        "        self.stack[self.top] = value\n",
        "\n",
        "    def pop(self):\n",
        "        if self.top == -1:\n",
        "            print(\"Stack underflow!\")\n",
        "            return None\n",
        "        value = self.stack[self.top]\n",
        "        self.top -= 1\n",
        "        return value\n",
        "\n",
        "    def peek(self):\n",
        "        if self.top == -1:\n",
        "            print(\"Stack is empty!\")\n",
        "            return None\n",
        "        return self.stack[self.top]\n",
        "\n",
        "class Queue:\n",
        "    def __init__(self, capacity):\n",
        "        self.capacity = capacity\n",
        "        self.queue = [0] * capacity\n",
        "        self.front = 0\n",
        "        self.rear = -1\n",
        "        self.size = 0\n",
        "\n",
        "    def enqueue(self, value):\n",
        "        if self.size == self.capacity:\n",
        "            print(\"Queue overflow!\")\n",
        "            return\n",
        "        self.rear = (self.rear + 1) % self.capacity\n",
        "        self.queue[self.rear] = value\n",
        "        self.size += 1\n",
        "\n",
        "    def dequeue(self):\n",
        "        if self.size == 0:\n",
        "            print(\"Queue underflow!\")\n",
        "            return None\n",
        "        value = self.queue[self.front]\n",
        "        self.front = (self.front + 1) % self.capacity\n",
        "        self.size -= 1\n",
        "        return value\n",
        "\n",
        "    def front_element(self):\n",
        "        if self.size == 0:\n",
        "            print(\"Queue is empty!\")\n",
        "            return None\n",
        "        return self.queue[self.front]\n",
        "\n",
        "class Node:\n",
        "    def __init__(self, data=None):\n",
        "        self.data = data\n",
        "        self.next = None\n",
        "\n",
        "class SinglyLinkedList:\n",
        "    def __init__(self):\n",
        "        self.head = None\n",
        "\n",
        "    def append(self, data):\n",
        "        new_node = Node(data)\n",
        "        if not self.head:\n",
        "            self.head = new_node\n",
        "            return\n",
        "        last = self.head\n",
        "        while last.next:\n",
        "            last = last.next\n",
        "        last.next = new_node\n",
        "\n",
        "    def display(self):\n",
        "        current = self.head\n",
        "        while current:\n",
        "            print(current.data, end=\" -> \")\n",
        "            current = current.next\n",
        "        print(\"None\")\n",
        "\n",
        "# Example usage:\n",
        "\n",
        "# Stack operations\n",
        "stack = Stack(4)\n",
        "stack.push(11)\n",
        "stack.push(22)\n",
        "stack.push(15)\n",
        "stack.push(50)\n",
        "print(\"Popped from stack:\", stack.pop())\n",
        "\n",
        "# Queue operations\n",
        "queue = Queue(4)\n",
        "queue.enqueue(2)\n",
        "queue.enqueue(3)\n",
        "queue.enqueue(4)\n",
        "queue.enqueue(5)\n",
        "print(\"Dequeued from queue:\", queue.dequeue())\n",
        "\n",
        "# Singly Linked List operations\n",
        "linked_list = SinglyLinkedList()\n",
        "linked_list.append(1)\n",
        "linked_list.append(2)\n",
        "linked_list.append(3)\n",
        "linked_list.append(4)\n",
        "linked_list.append(5)\n",
        "linked_list.display()"
      ],
      "metadata": {
        "colab": {
          "base_uri": "https://localhost:8080/"
        },
        "id": "7IQ_PGkNP2cF",
        "outputId": "b247d9aa-05f1-4261-fcc6-1ec71575e920"
      },
      "execution_count": 7,
      "outputs": [
        {
          "output_type": "stream",
          "name": "stdout",
          "text": [
            "Popped from stack: 50\n",
            "Dequeued from queue: 2\n",
            "1 -> 2 -> 3 -> 4 -> 5 -> None\n"
          ]
        }
      ]
    }
  ]
}